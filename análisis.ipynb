{
 "cells": [
  {
   "cell_type": "code",
   "execution_count": 8,
   "metadata": {},
   "outputs": [],
   "source": [
    "# importar librerías\n",
    "import matplotlib.pyplot as plt\n",
    "import pandas as pd\n",
    "\n",
    "# dataframe con los datos de las notas\n",
    "df=pd.DataFrame({\"Notas\": [3,19,10,15,14,12,9,8,11,12,11,12,13,11,14,16] })"
   ]
  },
  {
   "attachments": {},
   "cell_type": "markdown",
   "metadata": {},
   "source": [
    "### CÁLCULO DE LOS DATOS"
   ]
  },
  {
   "cell_type": "code",
   "execution_count": 9,
   "metadata": {},
   "outputs": [],
   "source": [
    "# CÁLCULO\n",
    "def media():\n",
    "    media=df[\"Notas\"].mean()\n",
    "    print(\"la media es:\", media)\n",
    "    return media\n",
    "\n",
    "def mediana():\n",
    "    mediana=df[\"Notas\"].median()\n",
    "    print(\"la mediana es:\", mediana)\n",
    "\n",
    "def moda():\n",
    "    moda=df[\"Notas\"].mode()\n",
    "    if len(moda)==1:\n",
    "        print(\"la moda es:\", moda)\n",
    "    else:\n",
    "        print(\"la moda es:\", moda.iloc[0], end=\" \")\n",
    "        for i in range(1, len(moda)):\n",
    "            print(\"y\", moda.iloc[i])\n",
    "\n",
    "def desviacion_tipica():\n",
    "    desviacion_tipica = df[\"Notas\"].std()\n",
    "    print(\"La desviación típica es:\", desviacion_tipica)\n",
    "\n",
    "def varianza():\n",
    "    varianza = df[\"Notas\"].var()\n",
    "    print(\"La varianza es:\", varianza)\n",
    "\n",
    "def cuartil1():\n",
    "    cuartil1 = df[\"Notas\"].quantile(0.25)\n",
    "    print(\"El valor del primer cuartil (25%) es: \", cuartil1)\n",
    "\n",
    "def cuartil2():\n",
    "    cuartil2 = df[\"Notas\"].quantile(0.5)\n",
    "    print(\"El valor del segundo cuartil (50%) es: \", cuartil2)\n",
    "\n",
    "def cuartil3():\n",
    "    cuartil3 = df[\"Notas\"].quantile(0.75)\n",
    "    print(\"El valor del tercer cuartil (75%) es: \", cuartil3)\n",
    "\n",
    "\n",
    "def valor_max():\n",
    "    valor_max = df[\"Notas\"].max()\n",
    "    print(\"El valor máximo es: \", valor_max)\n",
    "\n",
    "def valor_min():\n",
    "    valor_min = df[\"Notas\"].min()\n",
    "    print(\"El valor mínimo es:\", valor_min)\n"
   ]
  },
  {
   "attachments": {},
   "cell_type": "markdown",
   "metadata": {},
   "source": [
    "### ANÁLISIS DE LOS DATOS"
   ]
  },
  {
   "cell_type": "code",
   "execution_count": 11,
   "metadata": {},
   "outputs": [
    {
     "name": "stdout",
     "output_type": "stream",
     "text": [
      "Análisis de las notas \n",
      "-------------------\n",
      "\n",
      "Nº de calificaciones:  16\n",
      "\n",
      "Media, mediana y moda \n",
      "---------------------\n",
      "la media es: 11.875\n",
      "la mediana es: 12.0\n",
      "la moda es: 11 y 12\n",
      "\n",
      "Desviación típica y varianza \n",
      "-----------------------------\n",
      "La desviación típica es: 3.6124783736376886\n",
      "La varianza es: 13.05\n",
      "\n",
      "Cuartiles \n",
      "---------\n",
      "El valor del primer cuartil (25%) es:  10.75\n",
      "El valor del segundo cuartil (50%) es:  12.0\n",
      "El valor del tercer cuartil (75%) es:  14.0\n",
      "\n",
      "Valor máximo y mínimo \n",
      "---------------------\n",
      "El valor máximo es:  19\n",
      "El valor mínimo es: 3\n"
     ]
    }
   ],
   "source": [
    "\n",
    "def análisis():\n",
    "    print(\"Media, mediana y moda \\n---------------------\")\n",
    "    media()\n",
    "    mediana()\n",
    "    moda()\n",
    "    print(\"\\nDesviación típica y varianza \\n-----------------------------\")\n",
    "    desviacion_tipica()\n",
    "    varianza()\n",
    "    print(\"\\nCuartiles \\n---------\")\n",
    "    cuartil1()\n",
    "    cuartil2()\n",
    "    cuartil3()\n",
    "    print(\"\\nValor máximo y mínimo \\n---------------------\")\n",
    "    valor_max()\n",
    "    valor_min()\n",
    "\n",
    "print(\"Análisis de las notas \\n-------------------\")\n",
    "print(\"\\nNº de calificaciones: \", len(df))\n",
    "print(\"\")\n",
    "análisis()"
   ]
  },
  {
   "attachments": {},
   "cell_type": "markdown",
   "metadata": {},
   "source": [
    "### HISTOGRAMAS"
   ]
  },
  {
   "attachments": {},
   "cell_type": "markdown",
   "metadata": {},
   "source": [
    "Histograma de notas con la media"
   ]
  },
  {
   "cell_type": "code",
   "execution_count": 13,
   "metadata": {},
   "outputs": [
    {
     "name": "stdout",
     "output_type": "stream",
     "text": [
      "la media es: 11.875\n"
     ]
    },
    {
     "data": {
      "image/png": "[encoded data removed]",
      "text/plain": [
       "<Figure size 640x480 with 1 Axes>"
      ]
     },
     "metadata": {},
     "output_type": "display_data"
    }
   ],
   "source": [
    "def histograma_media():\n",
    "    mean = media()\n",
    "\n",
    "    fig, ax = plt.subplots()\n",
    "    ax.hist(df[\"Notas\"], bins = range(0, 21, 2))\n",
    "    ax.set_title(\"Histogarama con la media\")\n",
    "    ax.set_xlabel(\"Notas\")\n",
    "    ax.set_ylabel(\"Frecuencia\")\n",
    "\n",
    "    # línea para la media\n",
    "    ax.axvline(x=mean, color = \"red\", linestyle = \"--\", label = \"Media\")\n",
    "\n",
    "    ax.legend()\n",
    "\n",
    "    plt.show()\n",
    "\n",
    "histograma_media()"
   ]
  }
 ],
 "metadata": {
  "kernelspec": {
   "display_name": "Python 3",
   "language": "python",
   "name": "python3"
  },
  "language_info": {
   "codemirror_mode": {
    "name": "ipython",
    "version": 3
   },
   "file_extension": ".py",
   "mimetype": "text/x-python",
   "name": "python",
   "nbconvert_exporter": "python",
   "pygments_lexer": "ipython3",
   "version": "3.10.11"
  },
  "orig_nbformat": 4
 },
 "nbformat": 4,
 "nbformat_minor": 2
}
