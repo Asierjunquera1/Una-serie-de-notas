{
 "cells": [
  {
   "cell_type": "code",
   "execution_count": null,
   "metadata": {},
   "outputs": [],
   "source": [
    "# importar librerías\n",
    "import matplotlib.pyplot as plt"
   ]
  },
  {
   "cell_type": "code",
   "execution_count": null,
   "metadata": {},
   "outputs": [],
   "source": [
    "# ANÁLISIS DE LOS DATOS DE LAS NOTAS\n",
    "\n",
    "def análisis():\n",
    "    print(\"Media, mediana y moda \\n---------------------\")\n",
    "    media()\n",
    "    mediana()\n",
    "    moda()\n",
    "    print(\"\\nDesviación típica y varianza \\n-----------------------------\")\n",
    "    desviación_típica()\n",
    "    varianza()\n",
    "    print(\"\\nCuartiles \\n---------\")\n",
    "    cuartil1()\n",
    "    cuartil2()\n",
    "    cuartil3()\n",
    "    print(\"\\nValor máximo y mínimo \\n---------------------\")\n",
    "    valor_max()\n",
    "    valor_min()"
   ]
  }
 ],
 "metadata": {
  "language_info": {
   "name": "python"
  },
  "orig_nbformat": 4
 },
 "nbformat": 4,
 "nbformat_minor": 2
}
